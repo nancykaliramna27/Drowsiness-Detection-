{
 "cells": [
  {
   "cell_type": "code",
   "execution_count": null,
   "id": "6b3634be-c4fa-45b3-8106-c0a698d10863",
   "metadata": {},
   "outputs": [],
   "source": []
  }
 ],
 "metadata": {
  "kernelspec": {
   "display_name": "",
   "name": ""
  },
  "language_info": {
   "name": ""
  }
 },
 "nbformat": 4,
 "nbformat_minor": 5
}
